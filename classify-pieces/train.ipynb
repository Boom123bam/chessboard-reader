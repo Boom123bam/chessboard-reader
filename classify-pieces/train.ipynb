{
 "cells": [
  {
   "cell_type": "code",
   "execution_count": 6,
   "metadata": {},
   "outputs": [
    {
     "name": "stdout",
     "output_type": "stream",
     "text": [
      "You are already logged into Roboflow. To make a different login, run roboflow.login(force=True).\n",
      "loading Roboflow workspace...\n",
      "loading Roboflow project...\n",
      "Downloading Dataset Version Zip in dataset to folder: 100% [15304792 / 15304792] bytes\n"
     ]
    },
    {
     "name": "stderr",
     "output_type": "stream",
     "text": [
      "Extracting Dataset Version Zip to dataset in folder:: 100%|██████████| 7873/7873 [00:00<00:00, 9744.67it/s] \n"
     ]
    }
   ],
   "source": [
    "import roboflow\n",
    "\n",
    "roboflow.login()\n",
    "\n",
    "rf = roboflow.Roboflow()\n",
    "project = rf.workspace(\"boom-ylaff\").project(\"chess-pieces-drxpx\")\n",
    "version = project.version(1)\n",
    "dataset = version.download(\"folder\", \"dataset\")"
   ]
  },
  {
   "cell_type": "code",
   "execution_count": 7,
   "metadata": {},
   "outputs": [
    {
     "name": "stdout",
     "output_type": "stream",
     "text": [
      "/Users/tangbrandon/Desktop/workspace/python/chessboard-reader/classify-pieces\n"
     ]
    }
   ],
   "source": [
    "import os\n",
    "HOME = os.getcwd()\n",
    "print(HOME)"
   ]
  },
  {
   "cell_type": "code",
   "execution_count": 8,
   "metadata": {},
   "outputs": [
    {
     "name": "stdout",
     "output_type": "stream",
     "text": [
      "/Users/tangbrandon/Desktop/workspace/python/chessboard-reader/classify-pieces\n"
     ]
    }
   ],
   "source": [
    "%cd {HOME}\n",
    "\n",
    "# !yolo task=classify mode=train model=yolov8n-cls.pt data={dataset.location} epochs=50 imgsz=128"
   ]
  },
  {
   "cell_type": "code",
   "execution_count": 15,
   "metadata": {},
   "outputs": [
    {
     "name": "stdout",
     "output_type": "stream",
     "text": [
      "/Users/tangbrandon/Desktop/workspace/python/chessboard-reader/classify-pieces\n"
     ]
    },
    {
     "name": "stderr",
     "output_type": "stream",
     "text": [
      "UserWarning: using dhist requires you to install the `pickleshare` library.\n"
     ]
    },
    {
     "name": "stdout",
     "output_type": "stream",
     "text": [
      "/Users/tangbrandon/Library/Python/3.9/lib/python/site-packages/urllib3/__init__.py:35: NotOpenSSLWarning: urllib3 v2 only supports OpenSSL 1.1.1+, currently the 'ssl' module is compiled with 'LibreSSL 2.8.3'. See: https://github.com/urllib3/urllib3/issues/3020\n",
      "  warnings.warn(\n",
      "Ultralytics YOLOv8.2.2 🚀 Python-3.9.6 torch-2.2.2 CPU (Apple M1)\n",
      "YOLOv8n-cls summary (fused): 73 layers, 1450252 parameters, 0 gradients, 3.3 GFLOPs\n",
      "WARNING ⚠️ Dataset 'split=val' not found, using 'split=test' instead.\n",
      "Traceback (most recent call last):\n",
      "  File \"/Users/tangbrandon/Library/Python/3.9/bin/yolo\", line 8, in <module>\n",
      "    sys.exit(entrypoint())\n",
      "  File \"/Users/tangbrandon/Library/Python/3.9/lib/python/site-packages/ultralytics/cfg/__init__.py\", line 582, in entrypoint\n",
      "    getattr(model, mode)(**overrides)  # default args from model\n",
      "  File \"/Users/tangbrandon/Library/Python/3.9/lib/python/site-packages/ultralytics/engine/model.py\", line 527, in val\n",
      "    validator(model=self.model)\n",
      "  File \"/Users/tangbrandon/Library/Python/3.9/lib/python/site-packages/torch/utils/_contextlib.py\", line 115, in decorate_context\n",
      "    return func(*args, **kwargs)\n",
      "  File \"/Users/tangbrandon/Library/Python/3.9/lib/python/site-packages/ultralytics/engine/validator.py\", line 145, in __call__\n",
      "    self.data = check_cls_dataset(self.args.data, split=self.args.split)\n",
      "  File \"/Users/tangbrandon/Library/Python/3.9/lib/python/site-packages/ultralytics/data/utils.py\", line 401, in check_cls_dataset\n",
      "    names = [x.name for x in (data_dir / \"train\").iterdir() if x.is_dir()]  # class names list\n",
      "  File \"/Users/tangbrandon/Library/Python/3.9/lib/python/site-packages/ultralytics/data/utils.py\", line 401, in <listcomp>\n",
      "    names = [x.name for x in (data_dir / \"train\").iterdir() if x.is_dir()]  # class names list\n",
      "  File \"/Applications/Xcode.app/Contents/Developer/Library/Frameworks/Python3.framework/Versions/3.9/lib/python3.9/pathlib.py\", line 1150, in iterdir\n",
      "    for name in self._accessor.listdir(self):\n",
      "FileNotFoundError: [Errno 2] No such file or directory: '/Users/tangbrandon/Desktop/workspace/python/chessboard-reader/classify-pieces/dataset/test/train'\n"
     ]
    }
   ],
   "source": [
    "%cd {HOME}\n",
    "\n",
    "!yolo task=classify mode=val model={HOME}/runs/classify/train/weights/best.pt data={dataset.location}"
   ]
  },
  {
   "cell_type": "code",
   "execution_count": 14,
   "metadata": {},
   "outputs": [
    {
     "name": "stdout",
     "output_type": "stream",
     "text": [
      "/Users/tangbrandon/Library/Python/3.9/lib/python/site-packages/urllib3/__init__.py:35: NotOpenSSLWarning: urllib3 v2 only supports OpenSSL 1.1.1+, currently the 'ssl' module is compiled with 'LibreSSL 2.8.3'. See: https://github.com/urllib3/urllib3/issues/3020\n",
      "  warnings.warn(\n",
      "Ultralytics YOLOv8.2.2 🚀 Python-3.9.6 torch-2.2.2 CPU (Apple M1)\n",
      "YOLOv8n-cls summary (fused): 73 layers, 1450252 parameters, 0 gradients, 3.3 GFLOPs\n",
      "\n",
      "image 1/1 /Users/tangbrandon/Desktop/workspace/python/chessboard-reader/classify-pieces/knight.png: 128x128 wn 1.00, bn 0.00, wb 0.00, wp 0.00, wk 0.00, 3.1ms\n",
      "Speed: 10.4ms preprocess, 3.1ms inference, 0.0ms postprocess per image at shape (1, 3, 128, 128)\n",
      "Results saved to \u001b[1mruns/classify/predict2\u001b[0m\n",
      "💡 Learn more at https://docs.ultralytics.com/modes/predict\n"
     ]
    }
   ],
   "source": [
    "!yolo task=classify mode=predict model={HOME}/runs/classify/train/weights/best.pt conf=0.25 source={HOME}/pieces"
   ]
  }
 ],
 "metadata": {
  "kernelspec": {
   "display_name": "Python 3",
   "language": "python",
   "name": "python3"
  },
  "language_info": {
   "codemirror_mode": {
    "name": "ipython",
    "version": 3
   },
   "file_extension": ".py",
   "mimetype": "text/x-python",
   "name": "python",
   "nbconvert_exporter": "python",
   "pygments_lexer": "ipython3",
   "version": "3.9.6"
  }
 },
 "nbformat": 4,
 "nbformat_minor": 2
}
