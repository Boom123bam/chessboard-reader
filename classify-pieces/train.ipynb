{
 "cells": [
  {
   "cell_type": "code",
   "execution_count": 3,
   "metadata": {},
   "outputs": [
    {
     "name": "stdout",
     "output_type": "stream",
     "text": [
      "Defaulting to user installation because normal site-packages is not writeable\n",
      "Requirement already satisfied: ultralytics in /Users/tangbrandon/Library/Python/3.9/lib/python/site-packages (8.2.2)\n",
      "Requirement already satisfied: matplotlib>=3.3.0 in /Users/tangbrandon/Library/Python/3.9/lib/python/site-packages (from ultralytics) (3.8.4)\n",
      "Requirement already satisfied: opencv-python>=4.6.0 in /Users/tangbrandon/Library/Python/3.9/lib/python/site-packages (from ultralytics) (4.9.0.80)\n",
      "Requirement already satisfied: pillow>=7.1.2 in /Users/tangbrandon/Library/Python/3.9/lib/python/site-packages (from ultralytics) (10.3.0)\n",
      "Requirement already satisfied: pyyaml>=5.3.1 in /Users/tangbrandon/Library/Python/3.9/lib/python/site-packages (from ultralytics) (6.0.1)\n",
      "Requirement already satisfied: requests>=2.23.0 in /Users/tangbrandon/Library/Python/3.9/lib/python/site-packages (from ultralytics) (2.31.0)\n",
      "Requirement already satisfied: scipy>=1.4.1 in /Users/tangbrandon/Library/Python/3.9/lib/python/site-packages (from ultralytics) (1.13.0)\n",
      "Requirement already satisfied: torch>=1.8.0 in /Users/tangbrandon/Library/Python/3.9/lib/python/site-packages (from ultralytics) (2.2.2)\n",
      "Requirement already satisfied: torchvision>=0.9.0 in /Users/tangbrandon/Library/Python/3.9/lib/python/site-packages (from ultralytics) (0.17.2)\n",
      "Requirement already satisfied: tqdm>=4.64.0 in /Users/tangbrandon/Library/Python/3.9/lib/python/site-packages (from ultralytics) (4.66.2)\n",
      "Requirement already satisfied: psutil in /Users/tangbrandon/Library/Python/3.9/lib/python/site-packages (from ultralytics) (5.9.8)\n",
      "Requirement already satisfied: py-cpuinfo in /Users/tangbrandon/Library/Python/3.9/lib/python/site-packages (from ultralytics) (9.0.0)\n",
      "Requirement already satisfied: thop>=0.1.1 in /Users/tangbrandon/Library/Python/3.9/lib/python/site-packages (from ultralytics) (0.1.1.post2209072238)\n",
      "Requirement already satisfied: pandas>=1.1.4 in /Users/tangbrandon/Library/Python/3.9/lib/python/site-packages (from ultralytics) (2.2.2)\n",
      "Requirement already satisfied: seaborn>=0.11.0 in /Users/tangbrandon/Library/Python/3.9/lib/python/site-packages (from ultralytics) (0.13.2)\n",
      "Requirement already satisfied: contourpy>=1.0.1 in /Users/tangbrandon/Library/Python/3.9/lib/python/site-packages (from matplotlib>=3.3.0->ultralytics) (1.2.1)\n",
      "Requirement already satisfied: cycler>=0.10 in /Users/tangbrandon/Library/Python/3.9/lib/python/site-packages (from matplotlib>=3.3.0->ultralytics) (0.10.0)\n",
      "Requirement already satisfied: fonttools>=4.22.0 in /Users/tangbrandon/Library/Python/3.9/lib/python/site-packages (from matplotlib>=3.3.0->ultralytics) (4.51.0)\n",
      "Requirement already satisfied: kiwisolver>=1.3.1 in /Users/tangbrandon/Library/Python/3.9/lib/python/site-packages (from matplotlib>=3.3.0->ultralytics) (1.4.5)\n",
      "Requirement already satisfied: numpy>=1.21 in /Users/tangbrandon/Library/Python/3.9/lib/python/site-packages (from matplotlib>=3.3.0->ultralytics) (1.26.4)\n",
      "Requirement already satisfied: packaging>=20.0 in /Users/tangbrandon/Library/Python/3.9/lib/python/site-packages (from matplotlib>=3.3.0->ultralytics) (24.0)\n",
      "Requirement already satisfied: pyparsing>=2.3.1 in /Users/tangbrandon/Library/Python/3.9/lib/python/site-packages (from matplotlib>=3.3.0->ultralytics) (2.4.7)\n",
      "Requirement already satisfied: python-dateutil>=2.7 in /Users/tangbrandon/Library/Python/3.9/lib/python/site-packages (from matplotlib>=3.3.0->ultralytics) (2.9.0.post0)\n",
      "Requirement already satisfied: importlib-resources>=3.2.0 in /Users/tangbrandon/Library/Python/3.9/lib/python/site-packages (from matplotlib>=3.3.0->ultralytics) (6.4.0)\n",
      "Requirement already satisfied: pytz>=2020.1 in /Users/tangbrandon/Library/Python/3.9/lib/python/site-packages (from pandas>=1.1.4->ultralytics) (2024.1)\n",
      "Requirement already satisfied: tzdata>=2022.7 in /Users/tangbrandon/Library/Python/3.9/lib/python/site-packages (from pandas>=1.1.4->ultralytics) (2024.1)\n",
      "Requirement already satisfied: charset-normalizer<4,>=2 in /Users/tangbrandon/Library/Python/3.9/lib/python/site-packages (from requests>=2.23.0->ultralytics) (3.3.2)\n",
      "Requirement already satisfied: idna<4,>=2.5 in /Users/tangbrandon/Library/Python/3.9/lib/python/site-packages (from requests>=2.23.0->ultralytics) (2.10)\n",
      "Requirement already satisfied: urllib3<3,>=1.21.1 in /Users/tangbrandon/Library/Python/3.9/lib/python/site-packages (from requests>=2.23.0->ultralytics) (2.2.1)\n",
      "Requirement already satisfied: certifi>=2017.4.17 in /Users/tangbrandon/Library/Python/3.9/lib/python/site-packages (from requests>=2.23.0->ultralytics) (2022.12.7)\n",
      "Requirement already satisfied: filelock in /Users/tangbrandon/Library/Python/3.9/lib/python/site-packages (from torch>=1.8.0->ultralytics) (3.13.4)\n",
      "Requirement already satisfied: typing-extensions>=4.8.0 in /Users/tangbrandon/Library/Python/3.9/lib/python/site-packages (from torch>=1.8.0->ultralytics) (4.11.0)\n",
      "Requirement already satisfied: sympy in /Users/tangbrandon/Library/Python/3.9/lib/python/site-packages (from torch>=1.8.0->ultralytics) (1.12)\n",
      "Requirement already satisfied: networkx in /Users/tangbrandon/Library/Python/3.9/lib/python/site-packages (from torch>=1.8.0->ultralytics) (3.2.1)\n",
      "Requirement already satisfied: jinja2 in /Users/tangbrandon/Library/Python/3.9/lib/python/site-packages (from torch>=1.8.0->ultralytics) (3.1.3)\n",
      "Requirement already satisfied: fsspec in /Users/tangbrandon/Library/Python/3.9/lib/python/site-packages (from torch>=1.8.0->ultralytics) (2024.3.1)\n",
      "Requirement already satisfied: six in /Applications/Xcode.app/Contents/Developer/Library/Frameworks/Python3.framework/Versions/3.9/lib/python3.9/site-packages (from cycler>=0.10->matplotlib>=3.3.0->ultralytics) (1.15.0)\n",
      "Requirement already satisfied: zipp>=3.1.0 in /Users/tangbrandon/Library/Python/3.9/lib/python/site-packages (from importlib-resources>=3.2.0->matplotlib>=3.3.0->ultralytics) (3.18.1)\n",
      "Requirement already satisfied: MarkupSafe>=2.0 in /Users/tangbrandon/Library/Python/3.9/lib/python/site-packages (from jinja2->torch>=1.8.0->ultralytics) (2.1.5)\n",
      "Requirement already satisfied: mpmath>=0.19 in /Users/tangbrandon/Library/Python/3.9/lib/python/site-packages (from sympy->torch>=1.8.0->ultralytics) (1.3.0)\n",
      "Defaulting to user installation because normal site-packages is not writeable\n",
      "Requirement already satisfied: roboflow in /Users/tangbrandon/Library/Python/3.9/lib/python/site-packages (1.1.4)\n",
      "Requirement already satisfied: certifi==2022.12.7 in /Users/tangbrandon/Library/Python/3.9/lib/python/site-packages (from roboflow) (2022.12.7)\n",
      "Requirement already satisfied: chardet==4.0.0 in /Users/tangbrandon/Library/Python/3.9/lib/python/site-packages (from roboflow) (4.0.0)\n",
      "Requirement already satisfied: cycler==0.10.0 in /Users/tangbrandon/Library/Python/3.9/lib/python/site-packages (from roboflow) (0.10.0)\n",
      "Requirement already satisfied: idna==2.10 in /Users/tangbrandon/Library/Python/3.9/lib/python/site-packages (from roboflow) (2.10)\n",
      "Requirement already satisfied: kiwisolver>=1.3.1 in /Users/tangbrandon/Library/Python/3.9/lib/python/site-packages (from roboflow) (1.4.5)\n",
      "Requirement already satisfied: matplotlib in /Users/tangbrandon/Library/Python/3.9/lib/python/site-packages (from roboflow) (3.8.4)\n",
      "Requirement already satisfied: numpy>=1.18.5 in /Users/tangbrandon/Library/Python/3.9/lib/python/site-packages (from roboflow) (1.26.4)\n",
      "Requirement already satisfied: opencv-python>=4.1.2 in /Users/tangbrandon/Library/Python/3.9/lib/python/site-packages (from roboflow) (4.9.0.80)\n",
      "Requirement already satisfied: Pillow>=7.1.2 in /Users/tangbrandon/Library/Python/3.9/lib/python/site-packages (from roboflow) (10.3.0)\n",
      "Requirement already satisfied: pyparsing==2.4.7 in /Users/tangbrandon/Library/Python/3.9/lib/python/site-packages (from roboflow) (2.4.7)\n",
      "Requirement already satisfied: python-dateutil in /Users/tangbrandon/Library/Python/3.9/lib/python/site-packages (from roboflow) (2.9.0.post0)\n",
      "Requirement already satisfied: python-dotenv in /Users/tangbrandon/Library/Python/3.9/lib/python/site-packages (from roboflow) (1.0.1)\n",
      "Requirement already satisfied: requests in /Users/tangbrandon/Library/Python/3.9/lib/python/site-packages (from roboflow) (2.31.0)\n",
      "Requirement already satisfied: six in /Applications/Xcode.app/Contents/Developer/Library/Frameworks/Python3.framework/Versions/3.9/lib/python3.9/site-packages (from roboflow) (1.15.0)\n",
      "Requirement already satisfied: supervision in /Users/tangbrandon/Library/Python/3.9/lib/python/site-packages (from roboflow) (0.19.0)\n",
      "Requirement already satisfied: urllib3>=1.26.6 in /Users/tangbrandon/Library/Python/3.9/lib/python/site-packages (from roboflow) (2.2.1)\n",
      "Requirement already satisfied: wget in /Users/tangbrandon/Library/Python/3.9/lib/python/site-packages (from roboflow) (3.2)\n",
      "Requirement already satisfied: tqdm>=4.41.0 in /Users/tangbrandon/Library/Python/3.9/lib/python/site-packages (from roboflow) (4.66.2)\n",
      "Requirement already satisfied: PyYAML>=5.3.1 in /Users/tangbrandon/Library/Python/3.9/lib/python/site-packages (from roboflow) (6.0.1)\n",
      "Requirement already satisfied: requests-toolbelt in /Users/tangbrandon/Library/Python/3.9/lib/python/site-packages (from roboflow) (1.0.0)\n",
      "Requirement already satisfied: contourpy>=1.0.1 in /Users/tangbrandon/Library/Python/3.9/lib/python/site-packages (from matplotlib->roboflow) (1.2.1)\n",
      "Requirement already satisfied: fonttools>=4.22.0 in /Users/tangbrandon/Library/Python/3.9/lib/python/site-packages (from matplotlib->roboflow) (4.51.0)\n",
      "Requirement already satisfied: packaging>=20.0 in /Users/tangbrandon/Library/Python/3.9/lib/python/site-packages (from matplotlib->roboflow) (24.0)\n",
      "Requirement already satisfied: importlib-resources>=3.2.0 in /Users/tangbrandon/Library/Python/3.9/lib/python/site-packages (from matplotlib->roboflow) (6.4.0)\n",
      "Requirement already satisfied: charset-normalizer<4,>=2 in /Users/tangbrandon/Library/Python/3.9/lib/python/site-packages (from requests->roboflow) (3.3.2)\n",
      "Requirement already satisfied: defusedxml<0.8.0,>=0.7.1 in /Users/tangbrandon/Library/Python/3.9/lib/python/site-packages (from supervision->roboflow) (0.7.1)\n",
      "Requirement already satisfied: opencv-python-headless>=4.5.5.64 in /Users/tangbrandon/Library/Python/3.9/lib/python/site-packages (from supervision->roboflow) (4.9.0.80)\n",
      "Requirement already satisfied: scipy<2.0.0,>=1.10.0 in /Users/tangbrandon/Library/Python/3.9/lib/python/site-packages (from supervision->roboflow) (1.13.0)\n",
      "Requirement already satisfied: zipp>=3.1.0 in /Users/tangbrandon/Library/Python/3.9/lib/python/site-packages (from importlib-resources>=3.2.0->matplotlib->roboflow) (3.18.1)\n"
     ]
    }
   ],
   "source": [
    "!pip3 install ultralytics\n",
    "!pip3 install roboflow"
   ]
  },
  {
   "cell_type": "code",
   "execution_count": 4,
   "metadata": {},
   "outputs": [
    {
     "name": "stdout",
     "output_type": "stream",
     "text": [
      "You are already logged into Roboflow. To make a different login, run roboflow.login(force=True).\n",
      "loading Roboflow workspace...\n",
      "loading Roboflow project...\n",
      "Downloading Dataset Version Zip in dataset to folder: 100% [29845181 / 29845181] bytes\n"
     ]
    },
    {
     "name": "stderr",
     "output_type": "stream",
     "text": [
      "Extracting Dataset Version Zip to dataset in folder:: 100%|██████████| 15395/15395 [00:02<00:00, 7344.38it/s]\n"
     ]
    }
   ],
   "source": [
    "import roboflow\n",
    "\n",
    "roboflow.login()\n",
    "\n",
    "rf = roboflow.Roboflow()\n",
    "project = rf.workspace(\"boom-ylaff\").project(\"chess-pieces-drxpx\")\n",
    "version = project.version(3)\n",
    "dataset = version.download(\"folder\", \"dataset\")"
   ]
  },
  {
   "cell_type": "code",
   "execution_count": 5,
   "metadata": {},
   "outputs": [
    {
     "name": "stdout",
     "output_type": "stream",
     "text": [
      "/Users/tangbrandon/Desktop/workspace/python/chessboard-reader/classify-pieces\n"
     ]
    }
   ],
   "source": [
    "import os\n",
    "HOME = os.getcwd()\n",
    "print(HOME)"
   ]
  },
  {
   "cell_type": "code",
   "execution_count": 6,
   "metadata": {},
   "outputs": [
    {
     "name": "stdout",
     "output_type": "stream",
     "text": [
      "/Users/tangbrandon/Desktop/workspace/python/chessboard-reader/classify-pieces\n"
     ]
    },
    {
     "name": "stderr",
     "output_type": "stream",
     "text": [
      "UserWarning: using dhist requires you to install the `pickleshare` library.\n"
     ]
    },
    {
     "name": "stdout",
     "output_type": "stream",
     "text": [
      "/Users/tangbrandon/Library/Python/3.9/lib/python/site-packages/urllib3/__init__.py:35: NotOpenSSLWarning: urllib3 v2 only supports OpenSSL 1.1.1+, currently the 'ssl' module is compiled with 'LibreSSL 2.8.3'. See: https://github.com/urllib3/urllib3/issues/3020\n",
      "  warnings.warn(\n",
      "New https://pypi.org/project/ultralytics/8.2.7 available 😃 Update with 'pip install -U ultralytics'\n",
      "Ultralytics YOLOv8.2.2 🚀 Python-3.9.6 torch-2.2.2 CPU (Apple M1)\n",
      "\u001b[34m\u001b[1mengine/trainer: \u001b[0mtask=classify, mode=train, model=yolov8n-cls.pt, data=/Users/tangbrandon/Desktop/workspace/python/chessboard-reader/classify-pieces/dataset, epochs=50, time=None, patience=100, batch=16, imgsz=128, save=True, save_period=-1, cache=False, device=None, workers=8, project=None, name=train, exist_ok=False, pretrained=True, optimizer=auto, verbose=True, seed=0, deterministic=True, single_cls=False, rect=False, cos_lr=False, close_mosaic=10, resume=False, amp=True, fraction=1.0, profile=False, freeze=None, multi_scale=False, overlap_mask=True, mask_ratio=4, dropout=0.0, val=True, split=val, save_json=False, save_hybrid=False, conf=None, iou=0.7, max_det=300, half=False, dnn=False, plots=True, source=None, vid_stride=1, stream_buffer=False, visualize=False, augment=False, agnostic_nms=False, classes=None, retina_masks=False, embed=None, show=False, save_frames=False, save_txt=False, save_conf=False, save_crop=False, show_labels=True, show_conf=True, show_boxes=True, line_width=None, format=torchscript, keras=False, optimize=False, int8=False, dynamic=False, simplify=False, opset=None, workspace=4, nms=False, lr0=0.01, lrf=0.01, momentum=0.937, weight_decay=0.0005, warmup_epochs=3.0, warmup_momentum=0.8, warmup_bias_lr=0.1, box=7.5, cls=0.5, dfl=1.5, pose=12.0, kobj=1.0, label_smoothing=0.0, nbs=64, hsv_h=0.015, hsv_s=0.7, hsv_v=0.4, degrees=0.0, translate=0.1, scale=0.5, shear=0.0, perspective=0.0, flipud=0.0, fliplr=0.5, bgr=0.0, mosaic=1.0, mixup=0.0, copy_paste=0.0, auto_augment=randaugment, erasing=0.4, crop_fraction=1.0, cfg=None, tracker=botsort.yaml, save_dir=runs/classify/train\n",
      "\u001b[34m\u001b[1mtrain:\u001b[0m /Users/tangbrandon/Desktop/workspace/python/chessboard-reader/classify-pieces/dataset/train... found 13431 images in 13 classes ✅ \n",
      "\u001b[34m\u001b[1mval:\u001b[0m None...\n",
      "\u001b[34m\u001b[1mtest:\u001b[0m /Users/tangbrandon/Desktop/workspace/python/chessboard-reader/classify-pieces/dataset/test... found 640 images in 13 classes ✅ \n",
      "Overriding model.yaml nc=1000 with nc=13\n",
      "\n",
      "                   from  n    params  module                                       arguments                     \n",
      "  0                  -1  1       464  ultralytics.nn.modules.conv.Conv             [3, 16, 3, 2]                 \n",
      "  1                  -1  1      4672  ultralytics.nn.modules.conv.Conv             [16, 32, 3, 2]                \n",
      "  2                  -1  1      7360  ultralytics.nn.modules.block.C2f             [32, 32, 1, True]             \n",
      "  3                  -1  1     18560  ultralytics.nn.modules.conv.Conv             [32, 64, 3, 2]                \n",
      "  4                  -1  2     49664  ultralytics.nn.modules.block.C2f             [64, 64, 2, True]             \n",
      "  5                  -1  1     73984  ultralytics.nn.modules.conv.Conv             [64, 128, 3, 2]               \n",
      "  6                  -1  2    197632  ultralytics.nn.modules.block.C2f             [128, 128, 2, True]           \n",
      "  7                  -1  1    295424  ultralytics.nn.modules.conv.Conv             [128, 256, 3, 2]              \n",
      "  8                  -1  1    460288  ultralytics.nn.modules.block.C2f             [256, 256, 1, True]           \n",
      "  9                  -1  1    346893  ultralytics.nn.modules.head.Classify         [256, 13]                     \n",
      "YOLOv8n-cls summary: 99 layers, 1454941 parameters, 1454941 gradients, 3.4 GFLOPs\n",
      "Transferred 156/158 items from pretrained weights\n",
      "\u001b[34m\u001b[1mTensorBoard: \u001b[0mStart with 'tensorboard --logdir runs/classify/train', view at http://localhost:6006/\n",
      "\u001b[34m\u001b[1mtrain: \u001b[0mScanning /Users/tangbrandon/Desktop/workspace/python/chessboard-reader/cl\u001b[0m\n",
      "\u001b[34m\u001b[1mtrain: \u001b[0mNew cache created: /Users/tangbrandon/Desktop/workspace/python/chessboard-reader/classify-pieces/dataset/train.cache\n",
      "\u001b[34m\u001b[1mval: \u001b[0mScanning /Users/tangbrandon/Desktop/workspace/python/chessboard-reader/clas\u001b[0m\n",
      "\u001b[34m\u001b[1mval: \u001b[0mNew cache created: /Users/tangbrandon/Desktop/workspace/python/chessboard-reader/classify-pieces/dataset/test.cache\n",
      "\u001b[34m\u001b[1moptimizer:\u001b[0m 'optimizer=auto' found, ignoring 'lr0=0.01' and 'momentum=0.937' and determining best 'optimizer', 'lr0' and 'momentum' automatically... \n",
      "\u001b[34m\u001b[1moptimizer:\u001b[0m SGD(lr=0.01, momentum=0.9) with parameter groups 26 weight(decay=0.0), 27 weight(decay=0.0005), 27 bias(decay=0.0)\n",
      "\u001b[34m\u001b[1mTensorBoard: \u001b[0mmodel graph visualization added ✅\n",
      "Image sizes 128 train, 128 val\n",
      "Using 0 dataloader workers\n",
      "Logging results to \u001b[1mruns/classify/train\u001b[0m\n",
      "Starting training for 50 epochs...\n",
      "\n",
      "      Epoch    GPU_mem       loss  Instances       Size\n",
      "       1/50         0G      1.091          7        128: 100%|██████████| 840/84\n",
      "               classes   top1_acc   top5_acc: 100%|██████████| 20/20 [00:05<00:0\n",
      "                   all      0.959      0.997\n",
      "\n",
      "      Epoch    GPU_mem       loss  Instances       Size\n",
      "       2/50         0G     0.3721         16        128:  14%|█▎        | 114/84^C\n",
      "       2/50         0G     0.3721         16        128:  14%|█▎        | 114/84\n",
      "Traceback (most recent call last):\n",
      "  File \"/Users/tangbrandon/Library/Python/3.9/bin/yolo\", line 8, in <module>\n",
      "    sys.exit(entrypoint())\n",
      "  File \"/Users/tangbrandon/Library/Python/3.9/lib/python/site-packages/ultralytics/cfg/__init__.py\", line 582, in entrypoint\n",
      "    getattr(model, mode)(**overrides)  # default args from model\n",
      "  File \"/Users/tangbrandon/Library/Python/3.9/lib/python/site-packages/ultralytics/engine/model.py\", line 673, in train\n",
      "    self.trainer.train()\n",
      "  File \"/Users/tangbrandon/Library/Python/3.9/lib/python/site-packages/ultralytics/engine/trainer.py\", line 199, in train\n",
      "    self._do_train(world_size)\n",
      "  File \"/Users/tangbrandon/Library/Python/3.9/lib/python/site-packages/ultralytics/engine/trainer.py\", line 379, in _do_train\n",
      "    self.scaler.scale(self.loss).backward()\n",
      "  File \"/Users/tangbrandon/Library/Python/3.9/lib/python/site-packages/torch/_tensor.py\", line 522, in backward\n",
      "    torch.autograd.backward(\n",
      "  File \"/Users/tangbrandon/Library/Python/3.9/lib/python/site-packages/torch/autograd/__init__.py\", line 266, in backward\n",
      "    Variable._execution_engine.run_backward(  # Calls into the C++ engine to run the backward pass\n",
      "KeyboardInterrupt\n"
     ]
    }
   ],
   "source": [
    "%cd {HOME}\n",
    "\n",
    "!yolo task=classify mode=train model=yolov8n-cls.pt data={dataset.location} epochs=50 imgsz=128"
   ]
  },
  {
   "cell_type": "code",
   "execution_count": null,
   "metadata": {},
   "outputs": [
    {
     "name": "stdout",
     "output_type": "stream",
     "text": [
      "/Users/tangbrandon/Desktop/workspace/python/chessboard-reader/classify-pieces\n"
     ]
    },
    {
     "name": "stderr",
     "output_type": "stream",
     "text": [
      "UserWarning: using dhist requires you to install the `pickleshare` library.\n"
     ]
    },
    {
     "name": "stdout",
     "output_type": "stream",
     "text": [
      "/Users/tangbrandon/Library/Python/3.9/lib/python/site-packages/urllib3/__init__.py:35: NotOpenSSLWarning: urllib3 v2 only supports OpenSSL 1.1.1+, currently the 'ssl' module is compiled with 'LibreSSL 2.8.3'. See: https://github.com/urllib3/urllib3/issues/3020\n",
      "  warnings.warn(\n",
      "Ultralytics YOLOv8.2.2 🚀 Python-3.9.6 torch-2.2.2 CPU (Apple M1)\n",
      "YOLOv8n-cls summary (fused): 73 layers, 1450252 parameters, 0 gradients, 3.3 GFLOPs\n",
      "WARNING ⚠️ Dataset 'split=val' not found, using 'split=test' instead.\n",
      "Traceback (most recent call last):\n",
      "  File \"/Users/tangbrandon/Library/Python/3.9/bin/yolo\", line 8, in <module>\n",
      "    sys.exit(entrypoint())\n",
      "  File \"/Users/tangbrandon/Library/Python/3.9/lib/python/site-packages/ultralytics/cfg/__init__.py\", line 582, in entrypoint\n",
      "    getattr(model, mode)(**overrides)  # default args from model\n",
      "  File \"/Users/tangbrandon/Library/Python/3.9/lib/python/site-packages/ultralytics/engine/model.py\", line 527, in val\n",
      "    validator(model=self.model)\n",
      "  File \"/Users/tangbrandon/Library/Python/3.9/lib/python/site-packages/torch/utils/_contextlib.py\", line 115, in decorate_context\n",
      "    return func(*args, **kwargs)\n",
      "  File \"/Users/tangbrandon/Library/Python/3.9/lib/python/site-packages/ultralytics/engine/validator.py\", line 145, in __call__\n",
      "    self.data = check_cls_dataset(self.args.data, split=self.args.split)\n",
      "  File \"/Users/tangbrandon/Library/Python/3.9/lib/python/site-packages/ultralytics/data/utils.py\", line 401, in check_cls_dataset\n",
      "    names = [x.name for x in (data_dir / \"train\").iterdir() if x.is_dir()]  # class names list\n",
      "  File \"/Users/tangbrandon/Library/Python/3.9/lib/python/site-packages/ultralytics/data/utils.py\", line 401, in <listcomp>\n",
      "    names = [x.name for x in (data_dir / \"train\").iterdir() if x.is_dir()]  # class names list\n",
      "  File \"/Applications/Xcode.app/Contents/Developer/Library/Frameworks/Python3.framework/Versions/3.9/lib/python3.9/pathlib.py\", line 1150, in iterdir\n",
      "    for name in self._accessor.listdir(self):\n",
      "FileNotFoundError: [Errno 2] No such file or directory: '/Users/tangbrandon/Desktop/workspace/python/chessboard-reader/classify-pieces/dataset/test/train'\n"
     ]
    }
   ],
   "source": [
    "%cd {HOME}\n",
    "\n",
    "!yolo task=classify mode=val model={HOME}/runs/classify/train/weights/best.pt data={dataset.location}"
   ]
  },
  {
   "cell_type": "code",
   "execution_count": null,
   "metadata": {},
   "outputs": [
    {
     "name": "stdout",
     "output_type": "stream",
     "text": [
      "/Users/tangbrandon/Library/Python/3.9/lib/python/site-packages/urllib3/__init__.py:35: NotOpenSSLWarning: urllib3 v2 only supports OpenSSL 1.1.1+, currently the 'ssl' module is compiled with 'LibreSSL 2.8.3'. See: https://github.com/urllib3/urllib3/issues/3020\n",
      "  warnings.warn(\n",
      "Ultralytics YOLOv8.2.2 🚀 Python-3.9.6 torch-2.2.2 CPU (Apple M1)\n",
      "YOLOv8n-cls summary (fused): 73 layers, 1450252 parameters, 0 gradients, 3.3 GFLOPs\n",
      "\n",
      "image 1/12 /Users/tangbrandon/Desktop/workspace/python/chessboard-reader/classify-pieces/pieces/b-b.png: 128x128 bb 0.85, wb 0.13, bp 0.01, wq 0.00, wn 0.00, 3.0ms\n",
      "image 2/12 /Users/tangbrandon/Desktop/workspace/python/chessboard-reader/classify-pieces/pieces/b-k.png: 128x128 bk 0.95, wk 0.05, bb 0.00, bq 0.00, br 0.00, 4.9ms\n",
      "image 3/12 /Users/tangbrandon/Desktop/workspace/python/chessboard-reader/classify-pieces/pieces/b-n.png: 128x128 bn 0.65, wn 0.34, bb 0.00, wb 0.00, bp 0.00, 2.5ms\n",
      "image 4/12 /Users/tangbrandon/Desktop/workspace/python/chessboard-reader/classify-pieces/pieces/b-p.png: 128x128 bp 1.00, br 0.00, wp 0.00, wr 0.00, wn 0.00, 2.4ms\n",
      "image 5/12 /Users/tangbrandon/Desktop/workspace/python/chessboard-reader/classify-pieces/pieces/b-q.png: 128x128 bq 0.95, wq 0.05, wb 0.00, br 0.00, wp 0.00, 2.5ms\n",
      "image 6/12 /Users/tangbrandon/Desktop/workspace/python/chessboard-reader/classify-pieces/pieces/b-r.png: 128x128 br 0.98, wr 0.02, bp 0.00, wp 0.00, bb 0.00, 3.9ms\n",
      "image 7/12 /Users/tangbrandon/Desktop/workspace/python/chessboard-reader/classify-pieces/pieces/w-b.png: 128x128 wb 0.98, bb 0.02, wq 0.00, wp 0.00, bk 0.00, 2.8ms\n",
      "image 8/12 /Users/tangbrandon/Desktop/workspace/python/chessboard-reader/classify-pieces/pieces/w-k.png: 128x128 bk 0.88, wk 0.12, wp 0.00, wb 0.00, wn 0.00, 2.6ms\n",
      "image 9/12 /Users/tangbrandon/Desktop/workspace/python/chessboard-reader/classify-pieces/pieces/w-n.png: 128x128 wn 1.00, bn 0.00, wb 0.00, wk 0.00, wp 0.00, 3.6ms\n",
      "image 10/12 /Users/tangbrandon/Desktop/workspace/python/chessboard-reader/classify-pieces/pieces/w-p.png: 128x128 wp 1.00, wb 0.00, bp 0.00, wq 0.00, wn 0.00, 3.1ms\n",
      "image 11/12 /Users/tangbrandon/Desktop/workspace/python/chessboard-reader/classify-pieces/pieces/w-q.png: 128x128 wq 1.00, wk 0.00, wb 0.00, wp 0.00, bq 0.00, 3.5ms\n",
      "image 12/12 /Users/tangbrandon/Desktop/workspace/python/chessboard-reader/classify-pieces/pieces/w-r.png: 128x128 wr 0.99, br 0.01, wk 0.00, wn 0.00, wp 0.00, 2.8ms\n",
      "Speed: 2.1ms preprocess, 3.1ms inference, 0.0ms postprocess per image at shape (1, 3, 128, 128)\n",
      "Results saved to \u001b[1mruns/classify/predict4\u001b[0m\n",
      "💡 Learn more at https://docs.ultralytics.com/modes/predict\n"
     ]
    }
   ],
   "source": [
    "!yolo task=classify mode=predict model={HOME}/runs/classify/train/weights/best.pt conf=0.25 source={HOME}/pieces"
   ]
  }
 ],
 "metadata": {
  "kernelspec": {
   "display_name": "Python 3",
   "language": "python",
   "name": "python3"
  },
  "language_info": {
   "codemirror_mode": {
    "name": "ipython",
    "version": 3
   },
   "file_extension": ".py",
   "mimetype": "text/x-python",
   "name": "python",
   "nbconvert_exporter": "python",
   "pygments_lexer": "ipython3",
   "version": "3.9.6"
  }
 },
 "nbformat": 4,
 "nbformat_minor": 2
}
