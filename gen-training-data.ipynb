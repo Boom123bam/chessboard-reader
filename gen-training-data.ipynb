{
 "cells": [
  {
   "cell_type": "code",
   "execution_count": 12,
   "metadata": {},
   "outputs": [],
   "source": [
    "import cv2\n",
    "import requests\n",
    "import numpy as np\n",
    "from matplotlib import pyplot as plt"
   ]
  },
  {
   "cell_type": "code",
   "execution_count": 13,
   "metadata": {},
   "outputs": [],
   "source": [
    "def get_img(theme, piece, size=150):\n",
    "    url = f\"https://images.chesscomfiles.com/chess-themes/pieces/{theme}/{size}/{piece}.png\"\n",
    "    response = requests.get(url)\n",
    "    img_array = np.array(bytearray(response.content), dtype=np.uint8)\n",
    "    return cv2.imdecode(img_array, -1)"
   ]
  },
  {
   "cell_type": "code",
   "execution_count": 14,
   "metadata": {},
   "outputs": [],
   "source": [
    "themes = [\n",
    "    \"neo\",\n",
    "    \"game_room\",\n",
    "    # \"wood\",\n",
    "    # \"glass\",\n",
    "    # \"gothic\",\n",
    "    # \"classic\",\n",
    "    # \"metal\",\n",
    "    # \"bases\",\n",
    "    # \"neo_wood\",\n",
    "    # \"icy_sea\",\n",
    "    # \"club\",\n",
    "    # \"ocean\",\n",
    "    # \"newspaper\",\n",
    "    # \"blindfold\",\n",
    "    # \"space\",\n",
    "    # \"cases\",\n",
    "    # \"condal\",\n",
    "    # \"8_bit\",\n",
    "    # \"marble\",\n",
    "    # \"book\",\n",
    "    # \"alpha\",\n",
    "    # \"bubblegum\",\n",
    "    # \"dash\",\n",
    "    # \"graffiti\",\n",
    "    # \"light\",\n",
    "    # \"lolz\",\n",
    "    # \"luca\",\n",
    "    # \"maya\",\n",
    "    # \"modern\",\n",
    "    # \"nature\",\n",
    "    # \"neon\",\n",
    "    # \"sky\",\n",
    "    # \"tigers\",\n",
    "    # \"tournament\",\n",
    "    # \"vintage\",\n",
    "]\n",
    "\n",
    "pieces = [\n",
    "    \"bb\",\n",
    "    \"bk\",\n",
    "    # \"bn\",\n",
    "    # \"bp\",\n",
    "    # \"bq\",\n",
    "    # \"br\",\n",
    "    # \"wb\",\n",
    "    # \"wk\",\n",
    "    # \"wn\",\n",
    "    # \"wp\",\n",
    "    # \"wq\",\n",
    "    # \"wr\",\n",
    "]"
   ]
  },
  {
   "cell_type": "code",
   "execution_count": 19,
   "metadata": {},
   "outputs": [],
   "source": [
    "def gen_alterations(img, save_path):\n",
    "    trans_mask = img[:,:,3] == 0\n",
    "\n",
    "    i = 0\n",
    "    for r in range(2):\n",
    "        for g in range(2):\n",
    "            for b in range(2):\n",
    "                new_img = img.copy()\n",
    "                new_img[trans_mask] = [r * 128, g * 128, b * 128, 255]\n",
    "                cv2.imwrite(f\"{save_path}/{i}.png\", new_img)\n",
    "                i += 1\n",
    "\n",
    "    # #new img without alpha channel...\n",
    "    # new_img = cv2.cvtColor(img, cv2.COLOR_BGRA2BGR)\n"
   ]
  },
  {
   "cell_type": "code",
   "execution_count": 24,
   "metadata": {},
   "outputs": [
    {
     "name": "stdout",
     "output_type": "stream",
     "text": [
      "generated/0.png\n",
      "generated/1.png\n",
      "generated/2.png\n",
      "generated/3.png\n",
      "generated/4.png\n",
      "generated/5.png\n",
      "generated/6.png\n",
      "generated/7.png\n"
     ]
    }
   ],
   "source": [
    "img = get_img(\"newspaper\", \"bb\")\n",
    "gen_alterations(img, \"generated\")"
   ]
  },
  {
   "cell_type": "code",
   "execution_count": 17,
   "metadata": {},
   "outputs": [],
   "source": [
    "# for theme in themes:\n",
    "#     for piece in pieces:\n",
    "#         img = get_img(theme, piece)"
   ]
  },
  {
   "cell_type": "code",
   "execution_count": 18,
   "metadata": {},
   "outputs": [
    {
     "ename": "NameError",
     "evalue": "name 'new_img' is not defined",
     "output_type": "error",
     "traceback": [
      "\u001b[0;31m---------------------------------------------------------------------------\u001b[0m",
      "\u001b[0;31mNameError\u001b[0m                                 Traceback (most recent call last)",
      "Cell \u001b[0;32mIn[18], line 1\u001b[0m\n\u001b[0;32m----> 1\u001b[0m plt\u001b[38;5;241m.\u001b[39mimshow(\u001b[43mnew_img\u001b[49m)\n",
      "\u001b[0;31mNameError\u001b[0m: name 'new_img' is not defined"
     ]
    }
   ],
   "source": [
    "\n",
    "plt.imshow(new_img)"
   ]
  }
 ],
 "metadata": {
  "kernelspec": {
   "display_name": "Python 3",
   "language": "python",
   "name": "python3"
  },
  "language_info": {
   "codemirror_mode": {
    "name": "ipython",
    "version": 3
   },
   "file_extension": ".py",
   "mimetype": "text/x-python",
   "name": "python",
   "nbconvert_exporter": "python",
   "pygments_lexer": "ipython3",
   "version": "3.9.6"
  }
 },
 "nbformat": 4,
 "nbformat_minor": 2
}
